{
 "cells": [
  {
   "cell_type": "markdown",
   "metadata": {},
   "source": [
    "# Get Tweets\n",
    "### Initial Twitter data collection.\n",
    "Chiefly inspired by tutorial found at\n",
    "\n",
    "https://www.earthdatascience.org/courses/earth-analytics-python/using-apis-natural-language-processing-twitter/get-and-use-twitter-data-in-python/"
   ]
  },
  {
   "cell_type": "code",
   "execution_count": 1,
   "metadata": {},
   "outputs": [],
   "source": [
    "import os\n",
    "import tweepy as tw\n",
    "import pandas as pd\n",
    "from api_keys import (twitter_access_token, twitter_access_token_secret, \n",
    "    twitter_api_key, twitter_api_secret_key)\n",
    "from pprint import pprint\n"
   ]
  },
  {
   "cell_type": "code",
   "execution_count": 2,
   "metadata": {},
   "outputs": [],
   "source": [
    "# Setup authorization; build tweepy interface\n",
    "auth = tw.OAuthHandler(twitter_api_key, twitter_api_secret_key)\n",
    "auth.set_access_token(twitter_access_token, twitter_access_token_secret)\n",
    "api = tw.API(auth, wait_on_rate_limit=True)"
   ]
  },
  {
   "cell_type": "code",
   "execution_count": 3,
   "metadata": {},
   "outputs": [
    {
     "name": "stdout",
     "output_type": "stream",
     "text": [
      "mcclure111\n",
      "scottmccloud\n",
      "EricaFails\n",
      "jesse_hamm\n",
      "rabiasquared\n",
      "pattonoswalt\n",
      "JAdomian\n",
      "pattonoswalt\n",
      "mcclure111\n",
      "EricaFails\n",
      "rabiasquared\n",
      "wwoz_neworleans\n",
      "DonCheadle\n",
      "James_Holzhauer\n",
      "MrGeorgeWallace\n",
      "DataSciFact\n",
      "DonCheadle\n",
      "davidhogg111\n",
      "davidhogg111\n",
      "DonCheadle\n"
     ]
    }
   ],
   "source": [
    "public_tweets = api.home_timeline()\n",
    "\n",
    "for tweet in public_tweets:\n",
    "    print(tweet.user.screen_name)"
   ]
  },
  {
   "cell_type": "code",
   "execution_count": 20,
   "metadata": {},
   "outputs": [
    {
     "data": {
      "text/plain": [
       "<tweepy.cursor.ItemIterator at 0x7f60e3043a50>"
      ]
     },
     "execution_count": 20,
     "metadata": {},
     "output_type": "execute_result"
    }
   ],
   "source": [
    "search_words = \"avengers endgame -filter:retweets\"\n",
    "date_since = \"2018-11-16\"\n",
    "tweets = tw.Cursor(api.search,\n",
    "              q=search_words,\n",
    "              lang=\"en\",\n",
    "              since=date_since).items(5)\n",
    "tweets"
   ]
  },
  {
   "cell_type": "code",
   "execution_count": 21,
   "metadata": {},
   "outputs": [],
   "source": [
    "tweet_iterable = [tweet for tweet in tweets]"
   ]
  },
  {
   "cell_type": "code",
   "execution_count": 22,
   "metadata": {},
   "outputs": [
    {
     "name": "stdout",
     "output_type": "stream",
     "text": [
      "The Target has kids Valentines for the Justice League (generic current comic versions, not the movie), the current… https://t.co/AoPUu681Lq\n",
      "----\n",
      "We definitely missed this one. https://t.co/JHODyERL3u\n",
      "----\n",
      "I didn't know what Tik Tok was until two days ago.\n",
      "\n",
      "I love watching crime shows like CSI and Law and Order!\n",
      "\n",
      "I didn… https://t.co/SuevaOT2ZQ\n",
      "----\n",
      "Avengers: Endgame Leak (2019) https://t.co/dfrnMuhC9N\n",
      "----\n",
      "@TrainerChika that's like...Avengers Endgame-level logic and I'm mad LOL\n",
      "----\n"
     ]
    }
   ],
   "source": [
    "for tweet in tweet_iterable:\n",
    "    print(tweet.text)\n",
    "    print(\"----\")"
   ]
  },
  {
   "cell_type": "code",
   "execution_count": null,
   "metadata": {},
   "outputs": [],
   "source": []
  },
  {
   "cell_type": "code",
   "execution_count": null,
   "metadata": {},
   "outputs": [],
   "source": []
  }
 ],
 "metadata": {
  "file_extension": ".py",
  "kernelspec": {
   "display_name": "Python 3",
   "language": "python",
   "name": "python3"
  },
  "language_info": {
   "codemirror_mode": {
    "name": "ipython",
    "version": 3
   },
   "file_extension": ".py",
   "mimetype": "text/x-python",
   "name": "python",
   "nbconvert_exporter": "python",
   "pygments_lexer": "ipython3",
   "version": "3.7.5"
  },
  "mimetype": "text/x-python",
  "name": "python",
  "npconvert_exporter": "python",
  "pygments_lexer": "ipython3",
  "version": 3
 },
 "nbformat": 4,
 "nbformat_minor": 4
}
