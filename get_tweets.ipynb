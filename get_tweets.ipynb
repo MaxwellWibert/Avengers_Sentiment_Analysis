{
 "cells": [
  {
   "cell_type": "markdown",
   "metadata": {},
   "source": [
    "# Get Tweets\n",
    "### Initial Twitter data collection.\n",
    "Chiefly inspired by tutorial found at\n",
    "\n",
    "https://www.earthdatascience.org/courses/earth-analytics-python/using-apis-natural-language-processing-twitter/get-and-use-twitter-data-in-python/"
   ]
  },
  {
   "cell_type": "code",
   "execution_count": 1,
   "metadata": {},
   "outputs": [],
   "source": [
    "import os\n",
    "import tweepy as tw\n",
    "import pandas as pd\n",
    "from api_keys import (twitter_access_token, twitter_access_token_secret, \n",
    "    twitter_api_key, twitter_api_secret_key)\n",
    "from pprint import pprint\n"
   ]
  },
  {
   "cell_type": "code",
   "execution_count": 2,
   "metadata": {},
   "outputs": [],
   "source": [
    "# Setup authorization; build tweepy interface\n",
    "auth = tw.OAuthHandler(twitter_api_key, twitter_api_secret_key)\n",
    "auth.set_access_token(twitter_access_token, twitter_access_token_secret)\n",
    "api = tw.API(auth, wait_on_rate_limit=True)"
   ]
  },
  {
   "cell_type": "code",
   "execution_count": 4,
   "metadata": {},
   "outputs": [],
   "source": [
    "# public_tweets = api.home_timeline()\n",
    "\n",
    "# for tweet in public_tweets:\n",
    "#     print(tweet.user.screen_name)"
   ]
  },
  {
   "cell_type": "code",
   "execution_count": 26,
   "metadata": {},
   "outputs": [
    {
     "data": {
      "text/plain": [
       "<tweepy.cursor.ItemIterator at 0x7ffb8a3df510>"
      ]
     },
     "execution_count": 26,
     "metadata": {},
     "output_type": "execute_result"
    }
   ],
   "source": [
    "search_words = \"avengers endgame -filter:retweets\"\n",
    "date_since = \"2018-11-16\"\n",
    "date_until = \"2019-02-16\"\n",
    "tweets = tw.Cursor(api.search,\n",
    "                   q=search_words,\n",
    "                   lang=\"en\",\n",
    "                   since=date_since,\n",
    "#                    until=date_until\n",
    "                  ).items(5)\n",
    "tweets"
   ]
  },
  {
   "cell_type": "code",
   "execution_count": 27,
   "metadata": {},
   "outputs": [],
   "source": [
    "tweet_iterable = [tweet for tweet in tweets]"
   ]
  },
  {
   "cell_type": "code",
   "execution_count": 28,
   "metadata": {},
   "outputs": [
    {
     "name": "stdout",
     "output_type": "stream",
     "text": [
      "Visual Effects Society Nominations\n",
      "#VESAwards \n",
      "\n",
      "Outstanding Visual Effects in a Photoreal Feature:\n",
      "- ALITA: BATTLE… https://t.co/d8W20XdLvY\n",
      "----\n",
      "- Avengers: Endgame (x4)\n",
      "\n",
      "- 10/10 ⭐️ https://t.co/U8ICu99C9k\n",
      "----\n",
      "Captain Marvel and Avengers: Endgame VFX artists share their experiences working on these blockbuster films: https:… https://t.co/WiW99Rb5Sx\n",
      "----\n",
      "@officialavatar James Cameron is going to try a break Avengers Endgame record. You heard it from me. I humbly think… https://t.co/ogozmOZOYQ\n",
      "----\n",
      "Whenever someone tells me Avengers Endgame is “bad”\n",
      "\n",
      "Me : https://t.co/pySkd1Sa5c\n",
      "----\n"
     ]
    }
   ],
   "source": [
    "for tweet in tweet_iterable:\n",
    "    print(tweet.text)\n",
    "    print(\"----\")"
   ]
  },
  {
   "cell_type": "code",
   "execution_count": null,
   "metadata": {},
   "outputs": [],
   "source": []
  }
 ],
 "metadata": {
  "file_extension": ".py",
  "kernelspec": {
   "display_name": "Python 3",
   "language": "python",
   "name": "python3"
  },
  "language_info": {
   "codemirror_mode": {
    "name": "ipython",
    "version": 3
   },
   "file_extension": ".py",
   "mimetype": "text/x-python",
   "name": "python",
   "nbconvert_exporter": "python",
   "pygments_lexer": "ipython3",
   "version": "3.7.5"
  },
  "mimetype": "text/x-python",
  "name": "python",
  "npconvert_exporter": "python",
  "pygments_lexer": "ipython3",
  "version": 3
 },
 "nbformat": 4,
 "nbformat_minor": 4
}
