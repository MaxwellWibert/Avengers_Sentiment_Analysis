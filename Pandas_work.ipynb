{
 "cells": [
  {
   "cell_type": "markdown",
   "metadata": {},
   "source": [
    "# Data Munging"
   ]
  },
  {
   "cell_type": "code",
   "execution_count": 22,
   "metadata": {},
   "outputs": [],
   "source": [
    "#Dependencies\n",
    "import pandas as pd\n",
    "import numpy as py\n",
    "import matplotlib.pyplot as plt\n",
    "from pprint import pprint\n",
    "import json\n",
    "\n",
    "#Importing NLP model\n",
    "from score import score"
   ]
  },
  {
   "cell_type": "code",
   "execution_count": 28,
   "metadata": {},
   "outputs": [],
   "source": [
    "#Open and read movie data and reviews data\n",
    "with open(\"./movie_data.json\", \"r\") as io:\n",
    "    movie_data = json.loads(io.read())\n",
    "    io.close()\n",
    "\n",
    "with open(\"./reviews.json\", \"r\") as io:\n",
    "    reviews = json.loads(io.read())\n",
    "    io.close()"
   ]
  },
  {
   "cell_type": "code",
   "execution_count": 52,
   "metadata": {},
   "outputs": [],
   "source": [
    "#Loop through key,value pairs\n",
    "movie_ids = [str(x) for x in movie_data[\"movie_ids\"]]\n",
    "\n",
    "m_reviews = []\n",
    "\n",
    "for movie_id in movie_ids:\n",
    "    review_list = reviews[movie_id]\n",
    "    for review in review_list:\n",
    "        row = {}\n",
    "        row[\"movie_id\"] = movie_id\n",
    "        row[\"review\"] = review\n",
    "        index = movie_data[\"movie_ids\"].index(int(movie_id))\n",
    "        row[\"title\"] = movie_data[\"titles\"][index]\n",
    "        row[\"date\"] = movie_data[\"dates\"][index]\n",
    "        row[\"average_score\"] = movie_data[\"average_score\"][index]\n",
    "        row[\"vote_count\"] = movie_data[\"vote_count\"][index]\n",
    "        row[\"popularity\"] = movie_data[\"popularity\"][index]\n",
    "        m_reviews.append(row)"
   ]
  },
  {
   "cell_type": "code",
   "execution_count": 58,
   "metadata": {
    "scrolled": true
   },
   "outputs": [],
   "source": [
    "#Convert to dataframe\n",
    "reviews_df = pd.DataFrame(m_reviews)"
   ]
  },
  {
   "cell_type": "code",
   "execution_count": 66,
   "metadata": {},
   "outputs": [],
   "source": [
    "#Run NLP on each review\n",
    "review_series = reviews_df.review\n",
    "scores = review_series.map(lambda r : score(r))"
   ]
  },
  {
   "cell_type": "code",
   "execution_count": 67,
   "metadata": {},
   "outputs": [],
   "source": [
    "#Add scores to dataframe\n",
    "reviews_df[\"scores\"] = scores"
   ]
  },
  {
   "cell_type": "code",
   "execution_count": 68,
   "metadata": {},
   "outputs": [
    {
     "data": {
      "text/html": [
       "<div>\n",
       "<style scoped>\n",
       "    .dataframe tbody tr th:only-of-type {\n",
       "        vertical-align: middle;\n",
       "    }\n",
       "\n",
       "    .dataframe tbody tr th {\n",
       "        vertical-align: top;\n",
       "    }\n",
       "\n",
       "    .dataframe thead th {\n",
       "        text-align: right;\n",
       "    }\n",
       "</style>\n",
       "<table border=\"1\" class=\"dataframe\">\n",
       "  <thead>\n",
       "    <tr style=\"text-align: right;\">\n",
       "      <th></th>\n",
       "      <th>movie_id</th>\n",
       "      <th>review</th>\n",
       "      <th>title</th>\n",
       "      <th>date</th>\n",
       "      <th>average_score</th>\n",
       "      <th>vote_count</th>\n",
       "      <th>popularity</th>\n",
       "      <th>scores</th>\n",
       "    </tr>\n",
       "  </thead>\n",
       "  <tbody>\n",
       "    <tr>\n",
       "      <th>0</th>\n",
       "      <td>24428</td>\n",
       "      <td>With a movie like this you wonder how all of t...</td>\n",
       "      <td>The Avengers</td>\n",
       "      <td>2012-04-25</td>\n",
       "      <td>7.7</td>\n",
       "      <td>21240</td>\n",
       "      <td>27.884</td>\n",
       "      <td>0.176025</td>\n",
       "    </tr>\n",
       "    <tr>\n",
       "      <th>1</th>\n",
       "      <td>24428</td>\n",
       "      <td>**A long format review from 2012**\\r\\n\\r\\nMy n...</td>\n",
       "      <td>The Avengers</td>\n",
       "      <td>2012-04-25</td>\n",
       "      <td>7.7</td>\n",
       "      <td>21240</td>\n",
       "      <td>27.884</td>\n",
       "      <td>12.144836</td>\n",
       "    </tr>\n",
       "    <tr>\n",
       "      <th>2</th>\n",
       "      <td>24428</td>\n",
       "      <td>After the recent disappointments from Marvel, ...</td>\n",
       "      <td>The Avengers</td>\n",
       "      <td>2012-04-25</td>\n",
       "      <td>7.7</td>\n",
       "      <td>21240</td>\n",
       "      <td>27.884</td>\n",
       "      <td>-0.390126</td>\n",
       "    </tr>\n",
       "    <tr>\n",
       "      <th>3</th>\n",
       "      <td>24428</td>\n",
       "      <td>One of the few movies to actually make me feel...</td>\n",
       "      <td>The Avengers</td>\n",
       "      <td>2012-04-25</td>\n",
       "      <td>7.7</td>\n",
       "      <td>21240</td>\n",
       "      <td>27.884</td>\n",
       "      <td>1.961338</td>\n",
       "    </tr>\n",
       "    <tr>\n",
       "      <th>4</th>\n",
       "      <td>24428</td>\n",
       "      <td>I give this 10 Stars based on it being not onl...</td>\n",
       "      <td>The Avengers</td>\n",
       "      <td>2012-04-25</td>\n",
       "      <td>7.7</td>\n",
       "      <td>21240</td>\n",
       "      <td>27.884</td>\n",
       "      <td>0.701263</td>\n",
       "    </tr>\n",
       "  </tbody>\n",
       "</table>\n",
       "</div>"
      ],
      "text/plain": [
       "  movie_id                                             review         title  \\\n",
       "0    24428  With a movie like this you wonder how all of t...  The Avengers   \n",
       "1    24428  **A long format review from 2012**\\r\\n\\r\\nMy n...  The Avengers   \n",
       "2    24428  After the recent disappointments from Marvel, ...  The Avengers   \n",
       "3    24428  One of the few movies to actually make me feel...  The Avengers   \n",
       "4    24428  I give this 10 Stars based on it being not onl...  The Avengers   \n",
       "\n",
       "         date  average_score  vote_count  popularity     scores  \n",
       "0  2012-04-25            7.7       21240      27.884   0.176025  \n",
       "1  2012-04-25            7.7       21240      27.884  12.144836  \n",
       "2  2012-04-25            7.7       21240      27.884  -0.390126  \n",
       "3  2012-04-25            7.7       21240      27.884   1.961338  \n",
       "4  2012-04-25            7.7       21240      27.884   0.701263  "
      ]
     },
     "execution_count": 68,
     "metadata": {},
     "output_type": "execute_result"
    }
   ],
   "source": [
    "reviews_df.head()"
   ]
  },
  {
   "cell_type": "code",
   "execution_count": null,
   "metadata": {},
   "outputs": [],
   "source": []
  }
 ],
 "metadata": {
  "kernelspec": {
   "display_name": "Python 3",
   "language": "python",
   "name": "python3"
  },
  "language_info": {
   "codemirror_mode": {
    "name": "ipython",
    "version": 3
   },
   "file_extension": ".py",
   "mimetype": "text/x-python",
   "name": "python",
   "nbconvert_exporter": "python",
   "pygments_lexer": "ipython3",
   "version": "3.7.4"
  }
 },
 "nbformat": 4,
 "nbformat_minor": 4
}
