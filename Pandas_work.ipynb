{
 "cells": [
  {
   "cell_type": "markdown",
   "metadata": {},
   "source": [
    "# Data Munging"
   ]
  },
  {
   "cell_type": "code",
   "execution_count": 1,
   "metadata": {},
   "outputs": [],
   "source": [
    "#Dependencies\n",
    "import pandas as pd\n",
    "import numpy as py\n",
    "import matplotlib.pyplot as plt\n",
    "from pprint import pprint\n",
    "import json\n",
    "\n",
    "#Importing NLP model\n",
    "from score import *\n",
    "from functools import reduce"
   ]
  },
  {
   "cell_type": "code",
   "execution_count": 2,
   "metadata": {},
   "outputs": [
    {
     "data": {
      "text/html": [
       "<div>\n",
       "<style scoped>\n",
       "    .dataframe tbody tr th:only-of-type {\n",
       "        vertical-align: middle;\n",
       "    }\n",
       "\n",
       "    .dataframe tbody tr th {\n",
       "        vertical-align: top;\n",
       "    }\n",
       "\n",
       "    .dataframe thead th {\n",
       "        text-align: right;\n",
       "    }\n",
       "</style>\n",
       "<table border=\"1\" class=\"dataframe\">\n",
       "  <thead>\n",
       "    <tr style=\"text-align: right;\">\n",
       "      <th></th>\n",
       "      <th>title</th>\n",
       "      <th>Domestic Opening</th>\n",
       "      <th>Budget</th>\n",
       "      <th>Running Time</th>\n",
       "      <th>Worldwide_gross</th>\n",
       "    </tr>\n",
       "  </thead>\n",
       "  <tbody>\n",
       "    <tr>\n",
       "      <td>0</td>\n",
       "      <td>The Avengers</td>\n",
       "      <td>207438708</td>\n",
       "      <td>220000000</td>\n",
       "      <td>143</td>\n",
       "      <td>1518812988</td>\n",
       "    </tr>\n",
       "    <tr>\n",
       "      <td>1</td>\n",
       "      <td>Avengers: Age of Ultron</td>\n",
       "      <td>191271109</td>\n",
       "      <td>250000000</td>\n",
       "      <td>141</td>\n",
       "      <td>1405403694</td>\n",
       "    </tr>\n",
       "    <tr>\n",
       "      <td>2</td>\n",
       "      <td>Captain America: Civil War</td>\n",
       "      <td>179139142</td>\n",
       "      <td>250000000</td>\n",
       "      <td>147</td>\n",
       "      <td>1153304495</td>\n",
       "    </tr>\n",
       "    <tr>\n",
       "      <td>3</td>\n",
       "      <td>Avengers: Infinity War</td>\n",
       "      <td>257698183</td>\n",
       "      <td>316000000</td>\n",
       "      <td>149</td>\n",
       "      <td>2048359754</td>\n",
       "    </tr>\n",
       "    <tr>\n",
       "      <td>4</td>\n",
       "      <td>Avengers: Endgame</td>\n",
       "      <td>357115007</td>\n",
       "      <td>356000000</td>\n",
       "      <td>181</td>\n",
       "      <td>2797800564</td>\n",
       "    </tr>\n",
       "  </tbody>\n",
       "</table>\n",
       "</div>"
      ],
      "text/plain": [
       "                        title  Domestic Opening     Budget  Running Time  \\\n",
       "0                The Avengers         207438708  220000000           143   \n",
       "1     Avengers: Age of Ultron         191271109  250000000           141   \n",
       "2  Captain America: Civil War         179139142  250000000           147   \n",
       "3      Avengers: Infinity War         257698183  316000000           149   \n",
       "4           Avengers: Endgame         357115007  356000000           181   \n",
       "\n",
       "   Worldwide_gross  \n",
       "0       1518812988  \n",
       "1       1405403694  \n",
       "2       1153304495  \n",
       "3       2048359754  \n",
       "4       2797800564  "
      ]
     },
     "execution_count": 2,
     "metadata": {},
     "output_type": "execute_result"
    }
   ],
   "source": [
    "film_data = pd.read_csv(\"./Resources/MCU_Film_Data.csv\").rename(columns={\"Film\": \"title\"})\n",
    "film_data"
   ]
  },
  {
   "cell_type": "code",
   "execution_count": 3,
   "metadata": {},
   "outputs": [],
   "source": [
    "#Open and read movie data and reviews data\n",
    "with open(\"./Resources/movie_data.json\", \"r\") as io:\n",
    "    movie_data = json.loads(io.read())\n",
    "    io.close()\n",
    "\n",
    "with open(\"./Resources/reviews.json\", \"r\") as io:\n",
    "    reviews = json.loads(io.read())\n",
    "    io.close()"
   ]
  },
  {
   "cell_type": "code",
   "execution_count": 4,
   "metadata": {},
   "outputs": [],
   "source": [
    "#Loop through key,value pairs\n",
    "movie_ids = [str(x) for x in movie_data[\"movie_ids\"]]\n",
    "\n",
    "m_reviews = []\n",
    "\n",
    "for movie_id in movie_ids:\n",
    "    review_list = reviews[movie_id]\n",
    "    for review in review_list:\n",
    "        row = {}\n",
    "        row[\"movie_id\"] = movie_id\n",
    "        row[\"review\"] = review\n",
    "        \n",
    "        index = movie_data[\"movie_ids\"].index(int(movie_id))\n",
    "        title = movie_data[\"titles\"][index]\n",
    "        \n",
    "        row[\"title\"] = title\n",
    "       \n",
    "        m_reviews.append(row)"
   ]
  },
  {
   "cell_type": "code",
   "execution_count": 5,
   "metadata": {
    "scrolled": true
   },
   "outputs": [],
   "source": [
    "#Convert to dataframe\n",
    "reviews_df = pd.DataFrame(m_reviews)"
   ]
  },
  {
   "cell_type": "code",
   "execution_count": 6,
   "metadata": {},
   "outputs": [],
   "source": [
    "#Run NLP on each review\n",
    "review_series = reviews_df.review\n",
    "scores = review_series.map(lambda r : score(r))\n",
    "normal_scores = review_series.map(lambda r: normal_score(r))"
   ]
  },
  {
   "cell_type": "code",
   "execution_count": 7,
   "metadata": {},
   "outputs": [],
   "source": [
    "#Add scores to dataframe\n",
    "reviews_df[\"score\"] = scores\n",
    "reviews_df[\"normal_score\"] = normal_scores"
   ]
  },
  {
   "cell_type": "code",
   "execution_count": 11,
   "metadata": {},
   "outputs": [],
   "source": [
    "movie_group = reviews_df[['title','score','normal_score']].groupby(by = [\"title\"])"
   ]
  },
  {
   "cell_type": "code",
   "execution_count": 12,
   "metadata": {},
   "outputs": [],
   "source": [
    "error_df = movie_group.sem().rename(columns= {\"score\": \"score_error\", \"normal_score\":\"normal_error\"})\n",
    "mean_df = movie_group.mean().rename(columns= {\"score\": \"score_mean\", \"normal_score\":\"normal_mean\"})\n",
    "median_df = movie_group.median().rename(columns= {\"score\": \"score_median\", \"normal_score\":\"normal_median\"})\n",
    "skew_df = movie_group.skew().rename(columns= {\"score\": \"score_skew\", \"normal_score\":\"normal_skew\"})\n",
    "std_df = movie_group.std().rename(columns= {\"score\": \"score_std\", \"normal_score\":\"normal_std\"})\n",
    "df_list = [error_df, mean_df, median_df, skew_df, std_df]\n",
    "stats_df = reduce(lambda  left,right: pd.merge(left,right,on=['title'],\n",
    "                                            how='outer'), df_list)"
   ]
  },
  {
   "cell_type": "code",
   "execution_count": null,
   "metadata": {},
   "outputs": [],
   "source": []
  },
  {
   "cell_type": "code",
   "execution_count": 13,
   "metadata": {},
   "outputs": [
    {
     "data": {
      "text/html": [
       "<div>\n",
       "<style scoped>\n",
       "    .dataframe tbody tr th:only-of-type {\n",
       "        vertical-align: middle;\n",
       "    }\n",
       "\n",
       "    .dataframe tbody tr th {\n",
       "        vertical-align: top;\n",
       "    }\n",
       "\n",
       "    .dataframe thead th {\n",
       "        text-align: right;\n",
       "    }\n",
       "</style>\n",
       "<table border=\"1\" class=\"dataframe\">\n",
       "  <thead>\n",
       "    <tr style=\"text-align: right;\">\n",
       "      <th></th>\n",
       "      <th>score_error</th>\n",
       "      <th>normal_error</th>\n",
       "    </tr>\n",
       "    <tr>\n",
       "      <th>title</th>\n",
       "      <th></th>\n",
       "      <th></th>\n",
       "    </tr>\n",
       "  </thead>\n",
       "  <tbody>\n",
       "    <tr>\n",
       "      <td>Avengers: Age of Ultron</td>\n",
       "      <td>0.701124</td>\n",
       "      <td>0.005466</td>\n",
       "    </tr>\n",
       "    <tr>\n",
       "      <td>Avengers: Endgame</td>\n",
       "      <td>1.396746</td>\n",
       "      <td>0.022290</td>\n",
       "    </tr>\n",
       "    <tr>\n",
       "      <td>Avengers: Infinity War</td>\n",
       "      <td>0.701235</td>\n",
       "      <td>0.005648</td>\n",
       "    </tr>\n",
       "    <tr>\n",
       "      <td>Captain America: Civil War</td>\n",
       "      <td>8.213266</td>\n",
       "      <td>0.013563</td>\n",
       "    </tr>\n",
       "    <tr>\n",
       "      <td>The Avengers</td>\n",
       "      <td>1.032284</td>\n",
       "      <td>0.006982</td>\n",
       "    </tr>\n",
       "  </tbody>\n",
       "</table>\n",
       "</div>"
      ],
      "text/plain": [
       "                            score_error  normal_error\n",
       "title                                                \n",
       "Avengers: Age of Ultron        0.701124      0.005466\n",
       "Avengers: Endgame              1.396746      0.022290\n",
       "Avengers: Infinity War         0.701235      0.005648\n",
       "Captain America: Civil War     8.213266      0.013563\n",
       "The Avengers                   1.032284      0.006982"
      ]
     },
     "execution_count": 13,
     "metadata": {},
     "output_type": "execute_result"
    }
   ],
   "source": [
    "error_df.rename(columns= {\"score\": \"score_error\", \"normal_score\":\"normal_error\"})"
   ]
  },
  {
   "cell_type": "code",
   "execution_count": 14,
   "metadata": {},
   "outputs": [],
   "source": [
    "film_df = pd.merge(film_data, stats_df, on = \"title\")"
   ]
  },
  {
   "cell_type": "code",
   "execution_count": 15,
   "metadata": {},
   "outputs": [
    {
     "data": {
      "text/html": [
       "<div>\n",
       "<style scoped>\n",
       "    .dataframe tbody tr th:only-of-type {\n",
       "        vertical-align: middle;\n",
       "    }\n",
       "\n",
       "    .dataframe tbody tr th {\n",
       "        vertical-align: top;\n",
       "    }\n",
       "\n",
       "    .dataframe thead th {\n",
       "        text-align: right;\n",
       "    }\n",
       "</style>\n",
       "<table border=\"1\" class=\"dataframe\">\n",
       "  <thead>\n",
       "    <tr style=\"text-align: right;\">\n",
       "      <th></th>\n",
       "      <th>title</th>\n",
       "      <th>Domestic Opening</th>\n",
       "      <th>Budget</th>\n",
       "      <th>Running Time</th>\n",
       "      <th>Worldwide_gross</th>\n",
       "      <th>score_error</th>\n",
       "      <th>normal_error</th>\n",
       "      <th>score_mean</th>\n",
       "      <th>normal_mean</th>\n",
       "      <th>score_median</th>\n",
       "      <th>normal_median</th>\n",
       "      <th>score_skew</th>\n",
       "      <th>normal_skew</th>\n",
       "      <th>score_std</th>\n",
       "      <th>normal_std</th>\n",
       "    </tr>\n",
       "  </thead>\n",
       "  <tbody>\n",
       "    <tr>\n",
       "      <td>0</td>\n",
       "      <td>The Avengers</td>\n",
       "      <td>207438708</td>\n",
       "      <td>220000000</td>\n",
       "      <td>143</td>\n",
       "      <td>1518812988</td>\n",
       "      <td>1.032284</td>\n",
       "      <td>0.006982</td>\n",
       "      <td>2.567501</td>\n",
       "      <td>0.029088</td>\n",
       "      <td>1.016494</td>\n",
       "      <td>0.020500</td>\n",
       "      <td>2.867453</td>\n",
       "      <td>0.963710</td>\n",
       "      <td>4.616514</td>\n",
       "      <td>0.031223</td>\n",
       "    </tr>\n",
       "    <tr>\n",
       "      <td>1</td>\n",
       "      <td>Avengers: Age of Ultron</td>\n",
       "      <td>191271109</td>\n",
       "      <td>250000000</td>\n",
       "      <td>141</td>\n",
       "      <td>1405403694</td>\n",
       "      <td>0.701124</td>\n",
       "      <td>0.005466</td>\n",
       "      <td>0.998049</td>\n",
       "      <td>0.014244</td>\n",
       "      <td>0.573129</td>\n",
       "      <td>0.017795</td>\n",
       "      <td>2.840256</td>\n",
       "      <td>-0.707376</td>\n",
       "      <td>3.135522</td>\n",
       "      <td>0.024447</td>\n",
       "    </tr>\n",
       "    <tr>\n",
       "      <td>2</td>\n",
       "      <td>Captain America: Civil War</td>\n",
       "      <td>179139142</td>\n",
       "      <td>250000000</td>\n",
       "      <td>147</td>\n",
       "      <td>1153304495</td>\n",
       "      <td>8.213266</td>\n",
       "      <td>0.013563</td>\n",
       "      <td>12.120093</td>\n",
       "      <td>0.037550</td>\n",
       "      <td>5.012950</td>\n",
       "      <td>0.044450</td>\n",
       "      <td>2.106036</td>\n",
       "      <td>-0.461761</td>\n",
       "      <td>21.730260</td>\n",
       "      <td>0.035885</td>\n",
       "    </tr>\n",
       "    <tr>\n",
       "      <td>3</td>\n",
       "      <td>Avengers: Infinity War</td>\n",
       "      <td>257698183</td>\n",
       "      <td>316000000</td>\n",
       "      <td>149</td>\n",
       "      <td>2048359754</td>\n",
       "      <td>0.701235</td>\n",
       "      <td>0.005648</td>\n",
       "      <td>1.055281</td>\n",
       "      <td>0.016934</td>\n",
       "      <td>0.259979</td>\n",
       "      <td>0.012863</td>\n",
       "      <td>3.123656</td>\n",
       "      <td>0.551084</td>\n",
       "      <td>2.528340</td>\n",
       "      <td>0.020364</td>\n",
       "    </tr>\n",
       "    <tr>\n",
       "      <td>4</td>\n",
       "      <td>Avengers: Endgame</td>\n",
       "      <td>357115007</td>\n",
       "      <td>356000000</td>\n",
       "      <td>181</td>\n",
       "      <td>2797800564</td>\n",
       "      <td>1.396746</td>\n",
       "      <td>0.022290</td>\n",
       "      <td>2.732638</td>\n",
       "      <td>0.035042</td>\n",
       "      <td>0.662800</td>\n",
       "      <td>0.016265</td>\n",
       "      <td>2.633917</td>\n",
       "      <td>4.110369</td>\n",
       "      <td>6.246440</td>\n",
       "      <td>0.099684</td>\n",
       "    </tr>\n",
       "  </tbody>\n",
       "</table>\n",
       "</div>"
      ],
      "text/plain": [
       "                        title  Domestic Opening     Budget  Running Time  \\\n",
       "0                The Avengers         207438708  220000000           143   \n",
       "1     Avengers: Age of Ultron         191271109  250000000           141   \n",
       "2  Captain America: Civil War         179139142  250000000           147   \n",
       "3      Avengers: Infinity War         257698183  316000000           149   \n",
       "4           Avengers: Endgame         357115007  356000000           181   \n",
       "\n",
       "   Worldwide_gross  score_error  normal_error  score_mean  normal_mean  \\\n",
       "0       1518812988     1.032284      0.006982    2.567501     0.029088   \n",
       "1       1405403694     0.701124      0.005466    0.998049     0.014244   \n",
       "2       1153304495     8.213266      0.013563   12.120093     0.037550   \n",
       "3       2048359754     0.701235      0.005648    1.055281     0.016934   \n",
       "4       2797800564     1.396746      0.022290    2.732638     0.035042   \n",
       "\n",
       "   score_median  normal_median  score_skew  normal_skew  score_std  normal_std  \n",
       "0      1.016494       0.020500    2.867453     0.963710   4.616514    0.031223  \n",
       "1      0.573129       0.017795    2.840256    -0.707376   3.135522    0.024447  \n",
       "2      5.012950       0.044450    2.106036    -0.461761  21.730260    0.035885  \n",
       "3      0.259979       0.012863    3.123656     0.551084   2.528340    0.020364  \n",
       "4      0.662800       0.016265    2.633917     4.110369   6.246440    0.099684  "
      ]
     },
     "execution_count": 15,
     "metadata": {},
     "output_type": "execute_result"
    }
   ],
   "source": [
    "film_df"
   ]
  },
  {
   "cell_type": "code",
   "execution_count": 16,
   "metadata": {},
   "outputs": [],
   "source": [
    "movie_data_df = pd.DataFrame(movie_data).rename(columns = {\"titles\": \"title\"})"
   ]
  },
  {
   "cell_type": "code",
   "execution_count": 17,
   "metadata": {},
   "outputs": [],
   "source": [
    "film_df = pd.merge(film_df, movie_data_df, on=\"title\").rename(columns = {\"Domestic Opening\" : \"domestic_open\",\n",
    "                                                                        \"Running Time\": \"runtime\",\n",
    "                                                                        \"average_score\": \"user_score\",\n",
    "                                                                        \"dates\": \"date\",\n",
    "                                                                        \"movie_ids\": \"movie_id\",\n",
    "                                                                        \"Budget\": \"budget\",\n",
    "                                                                        \"Worldwide_gross\": \"worldwide_gross\"})"
   ]
  },
  {
   "cell_type": "code",
   "execution_count": 20,
   "metadata": {},
   "outputs": [],
   "source": [
    "film_df.to_csv(\"./Resources/film_df.csv\", index= False)"
   ]
  },
  {
   "cell_type": "code",
   "execution_count": null,
   "metadata": {},
   "outputs": [],
   "source": []
  }
 ],
 "metadata": {
  "kernelspec": {
   "display_name": "Python 3",
   "language": "python",
   "name": "python3"
  },
  "language_info": {
   "codemirror_mode": {
    "name": "ipython",
    "version": 3
   },
   "file_extension": ".py",
   "mimetype": "text/x-python",
   "name": "python",
   "nbconvert_exporter": "python",
   "pygments_lexer": "ipython3",
   "version": "3.7.4"
  }
 },
 "nbformat": 4,
 "nbformat_minor": 4
}
