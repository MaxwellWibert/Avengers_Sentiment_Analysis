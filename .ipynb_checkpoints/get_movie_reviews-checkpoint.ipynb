{
 "cells": [
  {
   "cell_type": "markdown",
   "metadata": {},
   "source": [
    "# Get Reviews\n",
    "### Initial Movie Review Collection.\n"
   ]
  },
  {
   "cell_type": "code",
   "execution_count": 1,
   "metadata": {},
   "outputs": [],
   "source": [
    "# import os\n",
    "# import pandas as pd\n",
    "import requests\n",
    "from api_keys import themoviedb_api_key\n",
    "# from pprint import pprint"
   ]
  },
  {
   "cell_type": "markdown",
   "metadata": {},
   "source": [
    "### The New York Times \n",
    "Efforts to get reviews from The New York times have been suspended since its API does not serve complete reviews, only review metadata."
   ]
  },
  {
   "cell_type": "code",
   "execution_count": 2,
   "metadata": {},
   "outputs": [],
   "source": [
    "# api_key = nytimes_api_key"
   ]
  },
  {
   "cell_type": "code",
   "execution_count": 3,
   "metadata": {},
   "outputs": [],
   "source": [
    "# url = \"https://api.nytimes.com/svc/movies/v2/reviews/search.json?\"\n",
    "# query = \"avengers\"\n",
    "# query_url = url + \"api-key=\" + api_key + \"&q=\" + query"
   ]
  },
  {
   "cell_type": "code",
   "execution_count": 4,
   "metadata": {},
   "outputs": [],
   "source": [
    "# reviews = requests.get(query_url).json()"
   ]
  },
  {
   "cell_type": "code",
   "execution_count": 5,
   "metadata": {},
   "outputs": [],
   "source": [
    "# reviews"
   ]
  },
  {
   "cell_type": "code",
   "execution_count": 6,
   "metadata": {},
   "outputs": [],
   "source": [
    "# q = \"https://api.nytimes.com/svc/movies/v2/reviews/search.json?query=godfather&api-key=4mI9SosndaEigcAzs5zDFk8SPNvm7Wdd\"\n",
    "# r = requests.get(q).json()"
   ]
  },
  {
   "cell_type": "code",
   "execution_count": 7,
   "metadata": {},
   "outputs": [],
   "source": [
    "# r['results'][0]['link']['url']"
   ]
  },
  {
   "cell_type": "markdown",
   "metadata": {},
   "source": [
    "### The Movie Database"
   ]
  },
  {
   "cell_type": "code",
   "execution_count": 8,
   "metadata": {},
   "outputs": [],
   "source": [
    "# Initialize movie list and empty movie dictionary.\n",
    "movie_list = ['The Avengers', 'Avengers: Age of Ultron', 'Captain America: Civil War', 'Avengers: Infinity War', 'Avengers: Endgame']\n",
    "movie_dict = {\n",
    "    'movie_ids' : [],\n",
    "    'movie_titles' : [],\n",
    "    'movie_dates' : [],\n",
    "}\n"
   ]
  },
  {
   "cell_type": "code",
   "execution_count": 9,
   "metadata": {},
   "outputs": [],
   "source": [
    "# Method to search themoviedb and append information from the top hit into movie_dict.\n",
    "def get_movie_info(search_term):\n",
    "    query_url = f\"https://api.themoviedb.org/3/search/movie?api_key={themoviedb_api_key}&query={search_term}\"\n",
    "    response = requests.get(query_url).json()\n",
    "    movie_dict['movie_ids'].append(response['results'][0]['id'])\n",
    "    movie_dict['movie_titles'].append(response['results'][0]['title'])\n",
    "    movie_dict['movie_dates'].append(response['results'][0]['release_date'])"
   ]
  },
  {
   "cell_type": "code",
   "execution_count": 10,
   "metadata": {},
   "outputs": [],
   "source": [
    "# Build movie dictionary.\n",
    "# (This is essentially just to get the relevant movie_ids needed in the review getting step, \n",
    "#  but title and date information are retrieved as well.)\n",
    "for movie in movie_list:\n",
    "    get_movie_info(movie)"
   ]
  },
  {
   "cell_type": "code",
   "execution_count": 11,
   "metadata": {},
   "outputs": [
    {
     "data": {
      "text/plain": [
       "{'movie_ids': [24428, 99861, 271110, 299536, 299534],\n",
       " 'movie_titles': ['The Avengers',\n",
       "  'Avengers: Age of Ultron',\n",
       "  'Captain America: Civil War',\n",
       "  'Avengers: Infinity War',\n",
       "  'Avengers: Endgame'],\n",
       " 'movie_dates': ['2012-04-25',\n",
       "  '2015-04-22',\n",
       "  '2016-04-27',\n",
       "  '2018-04-25',\n",
       "  '2019-04-24']}"
      ]
     },
     "execution_count": 11,
     "metadata": {},
     "output_type": "execute_result"
    }
   ],
   "source": [
    "# View movie_dict.\n",
    "movie_dict"
   ]
  },
  {
   "cell_type": "code",
   "execution_count": 12,
   "metadata": {},
   "outputs": [],
   "source": [
    "# Initialize empty reviews_dict.\n",
    "reviews_dict = {}"
   ]
  },
  {
   "cell_type": "code",
   "execution_count": 13,
   "metadata": {},
   "outputs": [],
   "source": [
    "# Method to get list of reviews for a movie and build the reviews dictionary as\n",
    "# {movie_id : reviews_list}\n",
    "\n",
    "def get_movie_reviews(movie_id):\n",
    "    query_url = f\"https://api.themoviedb.org/3/movie/{movie_id}/reviews?api_key={themoviedb_api_key}\"\n",
    "    response = requests.get(query_url).json()\n",
    "    reviews_dict[movie_id] = [response['results'][i]['content'] for i in range(len(response['results']))]\n",
    "    "
   ]
  },
  {
   "cell_type": "code",
   "execution_count": 14,
   "metadata": {},
   "outputs": [],
   "source": [
    "# Build reviews_dict.\n",
    "for movie_id in movie_dict['movie_ids']:\n",
    "    get_movie_reviews(movie_id)"
   ]
  },
  {
   "cell_type": "code",
   "execution_count": 15,
   "metadata": {},
   "outputs": [
    {
     "data": {
      "text/plain": [
       "[20, 20, 7, 13, 20]"
      ]
     },
     "execution_count": 15,
     "metadata": {},
     "output_type": "execute_result"
    }
   ],
   "source": [
    "# Check how many reviews were returned for each movie.\n",
    "[len(reviews_dict[key]) for key in reviews_dict.keys()]"
   ]
  },
  {
   "cell_type": "code",
   "execution_count": null,
   "metadata": {},
   "outputs": [],
   "source": []
  }
 ],
 "metadata": {
  "file_extension": ".py",
  "kernelspec": {
   "display_name": "Python 3",
   "language": "python",
   "name": "python3"
  },
  "language_info": {
   "codemirror_mode": {
    "name": "ipython",
    "version": 3
   },
   "file_extension": ".py",
   "mimetype": "text/x-python",
   "name": "python",
   "nbconvert_exporter": "python",
   "pygments_lexer": "ipython3",
   "version": "3.7.5"
  },
  "mimetype": "text/x-python",
  "name": "python",
  "npconvert_exporter": "python",
  "pygments_lexer": "ipython3",
  "version": 3
 },
 "nbformat": 4,
 "nbformat_minor": 4
}
