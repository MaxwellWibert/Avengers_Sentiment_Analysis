{
 "cells": [
  {
   "cell_type": "code",
   "execution_count": 9,
   "metadata": {},
   "outputs": [],
   "source": [
    "import nltk\n",
    "import os\n",
    "import pickle\n",
    "\n",
    "sw = nltk.corpus.stopwords.words('english')"
   ]
  },
  {
   "cell_type": "code",
   "execution_count": 10,
   "metadata": {},
   "outputs": [],
   "source": [
    "def scrub(wordlist):\n",
    "    scrubbable = [word for word in wordlist if (word.isalpha() and word not in sw)]\n",
    "    unique = []\n",
    "    for word in scrubbable:\n",
    "        if word not in unique:\n",
    "            unique.append(word)\n",
    "    return unique"
   ]
  },
  {
   "cell_type": "code",
   "execution_count": 14,
   "metadata": {},
   "outputs": [],
   "source": [
    "posdir = os.fsencode(\"./Resources/review_polarity/txt_sentoken/pos/\")\n",
    "negdir = os.fsencode(\"./Resources/review_polarity/txt_sentoken/neg/\")"
   ]
  },
  {
   "cell_type": "code",
   "execution_count": 15,
   "metadata": {},
   "outputs": [],
   "source": [
    "word_scores = {}"
   ]
  },
  {
   "cell_type": "code",
   "execution_count": 17,
   "metadata": {},
   "outputs": [],
   "source": [
    "for file in os.listdir(posdir):\n",
    "    name = os.fsdecode(file)\n",
    "    with open(f\"./Resources/review_polarity/txt_sentoken/pos/{name}\") as io:\n",
    "        filetext = io.read()\n",
    "    io.close()\n",
    "    words = scrub(filetext.split(\" \"))\n",
    "    for word in words:\n",
    "        if word in word_scores:\n",
    "            word_scores[word][0] = word_scores[word][0] + 1\n",
    "            word_scores[word][1] = word_scores[word][1] + 1\n",
    "        else:\n",
    "            word_scores[word] = [1,1]"
   ]
  },
  {
   "cell_type": "code",
   "execution_count": 18,
   "metadata": {},
   "outputs": [],
   "source": [
    "for file in os.listdir(negdir):\n",
    "    name = os.fsdecode(file)\n",
    "    with open(f\"./Resources/review_polarity/txt_sentoken/neg/{name}\") as io:\n",
    "        filetext = io.read()\n",
    "    io.close()\n",
    "    words = scrub(filetext.split(\" \"))\n",
    "    for word in words:\n",
    "        if word in word_scores:\n",
    "            word_scores[word][0] = word_scores[word][0] - 1\n",
    "            word_scores[word][1] = word_scores[word][1] + 1\n",
    "        else:\n",
    "            word_scores[word] = [-1,1]"
   ]
  },
  {
   "cell_type": "code",
   "execution_count": 19,
   "metadata": {},
   "outputs": [],
   "source": [
    "for word in word_scores:\n",
    "    entry = word_scores[word]\n",
    "    word_scores[word].append(entry[0]/entry[1])"
   ]
  },
  {
   "cell_type": "code",
   "execution_count": 20,
   "metadata": {},
   "outputs": [],
   "source": [
    "with open(\"./Resources/pickled_scores.p\", \"wb\") as F:\n",
    "    pickle.dump(word_scores, F)"
   ]
  },
  {
   "cell_type": "code",
   "execution_count": null,
   "metadata": {},
   "outputs": [],
   "source": []
  }
 ],
 "metadata": {
  "kernelspec": {
   "display_name": "'Python Interactive'",
   "language": "python",
   "name": "15f108f3-5bc3-4783-89a4-11e07db949ed"
  },
  "language_info": {
   "codemirror_mode": {
    "name": "ipython",
    "version": 3
   },
   "file_extension": ".py",
   "mimetype": "text/x-python",
   "name": "python",
   "nbconvert_exporter": "python",
   "pygments_lexer": "ipython3",
   "version": "3.7.4"
  }
 },
 "nbformat": 4,
 "nbformat_minor": 4
}
