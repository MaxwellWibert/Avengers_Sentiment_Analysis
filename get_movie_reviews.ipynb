{
 "cells": [
  {
   "cell_type": "markdown",
   "metadata": {},
   "source": [
    "# Get Reviews\n",
    "### Initial Movie Review Collection.\n"
   ]
  },
  {
   "cell_type": "code",
   "execution_count": 1,
   "metadata": {},
   "outputs": [],
   "source": [
    "import requests\n",
    "import json\n",
    "from api_keys import themoviedb_api_key"
   ]
  },
  {
   "cell_type": "markdown",
   "metadata": {},
   "source": [
    "### The Movie Database"
   ]
  },
  {
   "cell_type": "code",
   "execution_count": 6,
   "metadata": {},
   "outputs": [],
   "source": [
    "# Initialize movie list and empty movie dictionary.\n",
    "movie_list = ['Iron Man', 'The Incredible Hulk', 'Iron Man 2', 'Thor', 'Captain America: The First Avenger', 'The Avengers', \n",
    "              'Iron Man 3', 'Thor: THe Dark World', 'Captain America: The Winter Soldier', 'Guardians of the Galaxy', 'Avengers: Age of Ultron', 'Ant-Man',\n",
    "              'Captain America: Civil War', 'Doctor Strange', 'Guardians of the Galaxy Vol. 2', 'Spider-Man: Homecoming', 'Thor: Ragnarok', \n",
    "              'Black Panther', 'Avengers: Infinity War', 'Ant-Man and the Wasp', 'Captain Marvel', 'Avengers: Endgame', 'Spider-Man: Far From Home']\n",
    "movie_dict = {\n",
    "    'movie_ids' : [],\n",
    "    'titles' : [],\n",
    "    'dates' : [],\n",
    "    'average_score' : [],\n",
    "    'vote_count' : [],\n",
    "    'popularity' : [],\n",
    "}\n"
   ]
  },
  {
   "cell_type": "code",
   "execution_count": 3,
   "metadata": {},
   "outputs": [],
   "source": [
    "# Method to search themoviedb and append information from the top hit into movie_dict.\n",
    "def get_movie_info(search_term):\n",
    "    query_url = f\"https://api.themoviedb.org/3/search/movie?api_key={themoviedb_api_key}&query={search_term}\"\n",
    "    response = requests.get(query_url).json()\n",
    "    movie_dict['movie_ids'].append(response['results'][0]['id'])\n",
    "    movie_dict['titles'].append(response['results'][0]['title'])\n",
    "    movie_dict['dates'].append(response['results'][0]['release_date'])\n",
    "    movie_dict['average_score'].append(response['results'][0]['vote_average'])\n",
    "    movie_dict['vote_count'].append(response['results'][0]['vote_count'])\n",
    "    movie_dict['popularity'].append(response['results'][0]['popularity'])\n",
    "    "
   ]
  },
  {
   "cell_type": "code",
   "execution_count": 7,
   "metadata": {},
   "outputs": [
    {
     "name": "stdout",
     "output_type": "stream",
     "text": [
      "Iron Man\n",
      "The Incredible Hulk\n",
      "Iron Man 2\n",
      "Thor\n",
      "Captain America: The First Avenger\n",
      "The Avengers\n",
      "Iron Man 3\n",
      "Thor: THe Dark World\n",
      "Captain America: The Winter Soldier\n",
      "Guardians of the Galaxy\n",
      "Avengers: Age of Ultron\n",
      "Ant-Man\n",
      "Captain America: Civil War\n",
      "Doctor Strange\n",
      "Guardians of the Galaxy Vol. 2\n",
      "Spider-Man: Homecoming\n",
      "Thor: Ragnarok\n",
      "Black Panther\n",
      "Avengers: Infinity War\n",
      "Ant-Man and the Wasp\n",
      "Captain Marvel\n",
      "Avengers: Endgame\n",
      "Spider-Man: Far From Home\n"
     ]
    }
   ],
   "source": [
    "# Build movie dictionary.\n",
    "# (This is essentially just to get the relevant movie_ids needed in the review getting step, \n",
    "#  but title and date information are retrieved as well.)\n",
    "for movie in movie_list:\n",
    "    print(movie)\n",
    "    get_movie_info(movie)"
   ]
  },
  {
   "cell_type": "code",
   "execution_count": 8,
   "metadata": {},
   "outputs": [
    {
     "data": {
      "text/plain": [
       "{'movie_ids': [1726,\n",
       "  1724,\n",
       "  10138,\n",
       "  284053,\n",
       "  1771,\n",
       "  24428,\n",
       "  68721,\n",
       "  76338,\n",
       "  100402,\n",
       "  118340,\n",
       "  99861,\n",
       "  102899,\n",
       "  271110,\n",
       "  284052,\n",
       "  283995,\n",
       "  315635,\n",
       "  284053,\n",
       "  284054,\n",
       "  299536,\n",
       "  363088,\n",
       "  299537,\n",
       "  299534,\n",
       "  429617],\n",
       " 'titles': ['Iron Man',\n",
       "  'The Incredible Hulk',\n",
       "  'Iron Man 2',\n",
       "  'Thor: Ragnarok',\n",
       "  'Captain America: The First Avenger',\n",
       "  'The Avengers',\n",
       "  'Iron Man 3',\n",
       "  'Thor: The Dark World',\n",
       "  'Captain America: The Winter Soldier',\n",
       "  'Guardians of the Galaxy',\n",
       "  'Avengers: Age of Ultron',\n",
       "  'Ant-Man',\n",
       "  'Captain America: Civil War',\n",
       "  'Doctor Strange',\n",
       "  'Guardians of the Galaxy Vol. 2',\n",
       "  'Spider-Man: Homecoming',\n",
       "  'Thor: Ragnarok',\n",
       "  'Black Panther',\n",
       "  'Avengers: Infinity War',\n",
       "  'Ant-Man and the Wasp',\n",
       "  'Captain Marvel',\n",
       "  'Avengers: Endgame',\n",
       "  'Spider-Man: Far from Home'],\n",
       " 'dates': ['2008-04-30',\n",
       "  '2008-06-12',\n",
       "  '2010-04-28',\n",
       "  '2017-10-25',\n",
       "  '2011-07-22',\n",
       "  '2012-04-25',\n",
       "  '2013-04-18',\n",
       "  '2013-10-29',\n",
       "  '2014-03-20',\n",
       "  '2014-07-30',\n",
       "  '2015-04-22',\n",
       "  '2015-07-14',\n",
       "  '2016-04-27',\n",
       "  '2016-10-25',\n",
       "  '2017-04-19',\n",
       "  '2017-07-05',\n",
       "  '2017-10-25',\n",
       "  '2018-02-13',\n",
       "  '2018-04-25',\n",
       "  '2018-07-04',\n",
       "  '2019-03-06',\n",
       "  '2019-04-24',\n",
       "  '2019-06-28'],\n",
       " 'average_score': [7.6,\n",
       "  6.2,\n",
       "  6.8,\n",
       "  7.5,\n",
       "  6.9,\n",
       "  7.7,\n",
       "  6.9,\n",
       "  6.6,\n",
       "  7.7,\n",
       "  7.9,\n",
       "  7.3,\n",
       "  7.1,\n",
       "  7.4,\n",
       "  7.4,\n",
       "  7.6,\n",
       "  7.4,\n",
       "  7.5,\n",
       "  7.4,\n",
       "  8.3,\n",
       "  7,\n",
       "  7,\n",
       "  8.3,\n",
       "  7.6],\n",
       " 'vote_count': [17181,\n",
       "  6991,\n",
       "  13525,\n",
       "  12809,\n",
       "  13986,\n",
       "  21256,\n",
       "  15288,\n",
       "  11118,\n",
       "  12093,\n",
       "  19489,\n",
       "  14808,\n",
       "  13086,\n",
       "  15214,\n",
       "  13881,\n",
       "  13823,\n",
       "  13183,\n",
       "  12809,\n",
       "  13969,\n",
       "  16345,\n",
       "  7476,\n",
       "  8046,\n",
       "  10794,\n",
       "  5644],\n",
       " 'popularity': [38.256,\n",
       "  22.082,\n",
       "  24.616,\n",
       "  44.892,\n",
       "  20.576,\n",
       "  40.091,\n",
       "  25.265,\n",
       "  28.534,\n",
       "  15.957,\n",
       "  54.049,\n",
       "  37.272,\n",
       "  27.945,\n",
       "  33.953,\n",
       "  28.604,\n",
       "  34.828,\n",
       "  37.704,\n",
       "  44.892,\n",
       "  36.369,\n",
       "  80.464,\n",
       "  27.689,\n",
       "  48.862,\n",
       "  41.937,\n",
       "  57.92]}"
      ]
     },
     "execution_count": 8,
     "metadata": {},
     "output_type": "execute_result"
    }
   ],
   "source": [
    "# View movie_dict.\n",
    "movie_dict"
   ]
  },
  {
   "cell_type": "code",
   "execution_count": 9,
   "metadata": {},
   "outputs": [],
   "source": [
    "# Initialize empty reviews_dict.\n",
    "reviews_dict = {}"
   ]
  },
  {
   "cell_type": "code",
   "execution_count": 10,
   "metadata": {},
   "outputs": [],
   "source": [
    "# Method to get list of reviews for a movie and build the reviews dictionary as\n",
    "# {movie_id : reviews_list}\n",
    "\n",
    "def get_movie_reviews(movie_id):\n",
    "    query_url = f\"https://api.themoviedb.org/3/movie/{movie_id}/reviews?api_key={themoviedb_api_key}\"\n",
    "    response = requests.get(query_url).json()\n",
    "    reviews_dict[movie_id] = [response['results'][i]['content'] for i in range(len(response['results']))]\n",
    "    "
   ]
  },
  {
   "cell_type": "code",
   "execution_count": 11,
   "metadata": {},
   "outputs": [],
   "source": [
    "# Build reviews_dict.\n",
    "for movie_id in movie_dict['movie_ids']:\n",
    "    get_movie_reviews(movie_id)"
   ]
  },
  {
   "cell_type": "markdown",
   "metadata": {},
   "source": [
    "Note: TheMovieDB API info at https://developers.themoviedb.org/3/getting-started."
   ]
  },
  {
   "cell_type": "code",
   "execution_count": 15,
   "metadata": {},
   "outputs": [],
   "source": [
    "json1 = json.dumps(reviews_dict)\n",
    "f = open(\"./Resources/reviews.json\",\"w\")\n",
    "f.write(json1)\n",
    "f.close()"
   ]
  },
  {
   "cell_type": "code",
   "execution_count": 16,
   "metadata": {},
   "outputs": [],
   "source": [
    "json2 = json.dumps(movie_dict)\n",
    "f = open(\"./Resources/movie_data.json\",\"w\")\n",
    "f.write(json2)\n",
    "f.close()"
   ]
  },
  {
   "cell_type": "markdown",
   "metadata": {},
   "source": [
    "### New data sources\n",
    "https://www.forbes.com/sites/travisbean/2019/07/10/box-office-ranking-the-first-7-days-of-every-marvel-cinematic-universe-movie/#5a7d5e0bb8f8\n",
    "\n",
    "https://www.promptcloud.com/blog/marvel-cinematic-universe-movies-data-visualization-imdb/"
   ]
  },
  {
   "cell_type": "code",
   "execution_count": null,
   "metadata": {},
   "outputs": [],
   "source": []
  }
 ],
 "metadata": {
  "file_extension": ".py",
  "kernelspec": {
   "display_name": "Python 3",
   "language": "python",
   "name": "python3"
  },
  "language_info": {
   "codemirror_mode": {
    "name": "ipython",
    "version": 3
   },
   "file_extension": ".py",
   "mimetype": "text/x-python",
   "name": "python",
   "nbconvert_exporter": "python",
   "pygments_lexer": "ipython3",
   "version": "3.7.5"
  },
  "mimetype": "text/x-python",
  "name": "python",
  "npconvert_exporter": "python",
  "pygments_lexer": "ipython3",
  "version": 3
 },
 "nbformat": 4,
 "nbformat_minor": 4
}
